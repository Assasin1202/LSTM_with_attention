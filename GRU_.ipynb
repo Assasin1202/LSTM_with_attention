{
 "cells": [
  {
   "cell_type": "code",
   "execution_count": 1,
   "metadata": {
    "execution": {
     "iopub.execute_input": "2024-09-26T16:22:44.115223Z",
     "iopub.status.busy": "2024-09-26T16:22:44.114936Z",
     "iopub.status.idle": "2024-09-26T16:22:46.684772Z",
     "shell.execute_reply": "2024-09-26T16:22:46.683521Z",
     "shell.execute_reply.started": "2024-09-26T16:22:44.115191Z"
    },
    "trusted": true
   },
   "outputs": [
    {
     "name": "stdout",
     "output_type": "stream",
     "text": [
      "Training Data:\n",
      "                                    tokenized_review  label  \\\n",
      "0  ['bromwell', 'high', 'cartoon', 'comedy', 'ran...      1   \n",
      "1  ['homelessness', 'houselessness', 'george', 'c...      1   \n",
      "2  ['brilliant', 'overacting', 'lesley', 'ann', '...      1   \n",
      "3  ['easily', 'underrated', 'film', 'inn', 'brook...      1   \n",
      "4  ['typical', 'mel', 'brooks', 'film', 'slapstic...      1   \n",
      "\n",
      "                                       padded_review  \n",
      "0  [1, 7323, 2274, 2956, 12444, 15823, 12104, 136...  \n",
      "1  [1, 1, 6465, 1, 14855, 8270, 17417, 11633, 724...  \n",
      "2  [1864, 11048, 1, 580, 16961, 1411, 4634, 1, 87...  \n",
      "3  [4836, 16350, 5810, 7999, 1904, 2164, 15282, 5...  \n",
      "4  [16264, 9793, 1904, 5810, 14290, 10269, 151, 1...  \n",
      "\n",
      "Test Data:\n",
      "                                    tokenized_review  label  \\\n",
      "0  ['went', 'saw', 'movie', 'night', 'coaxed', 'f...      1   \n",
      "1  ['actor', 'turned', 'director', 'bill', 'paxto...      1   \n",
      "2  ['recreational', 'golfer', 'knowledge', 'sport...      1   \n",
      "3  ['saw', 'film', 'sneak', 'preview', 'delightfu...      1   \n",
      "4  ['bill', 'paxton', 'taken', 'true', 'story', '...      1   \n",
      "\n",
      "                                       padded_review  \n",
      "0  [17092, 13543, 10254, 10578, 1, 6229, 7697, 20...  \n",
      "1  [142, 16226, 4329, 1472, 11336, 6038, 12129, 3...  \n",
      "2  [1, 1, 8707, 14724, 7388, 11674, 4418, 13818, ...  \n",
      "3  [13543, 5810, 14422, 12006, 4014, 2686, 16536,...  \n",
      "4  [1472, 11336, 15452, 16176, 14975, 6631, 10898...  \n"
     ]
    }
   ],
   "source": [
    "# %%\n",
    "import pandas as pd \n",
    "# Load preprocessed data\n",
    "train_df = pd.read_csv(\"train_data_final_2.csv\")\n",
    "test_df = pd.read_csv(\"test_data_final_2.csv\")\n",
    "\n",
    "# %%\n",
    "# Inspect the first few rows\n",
    "print(\"Training Data:\")\n",
    "print(train_df.head())\n",
    "\n",
    "print(\"\\nTest Data:\")\n",
    "print(test_df.head())\n"
   ]
  },
  {
   "cell_type": "markdown",
   "metadata": {},
   "source": [
    "## RNNS"
   ]
  },
  {
   "cell_type": "code",
   "execution_count": 20,
   "metadata": {
    "execution": {
     "iopub.execute_input": "2024-09-26T16:55:07.097744Z",
     "iopub.status.busy": "2024-09-26T16:55:07.096939Z",
     "iopub.status.idle": "2024-09-26T16:55:20.771147Z",
     "shell.execute_reply": "2024-09-26T16:55:20.769946Z",
     "shell.execute_reply.started": "2024-09-26T16:55:07.097688Z"
    },
    "trusted": true
   },
   "outputs": [
    {
     "name": "stdout",
     "output_type": "stream",
     "text": [
      "Number of batches in training loader: 23\n",
      "Number of batches in dev loader: 3\n",
      "Number of batches in test loader: 13\n"
     ]
    }
   ],
   "source": [
    "import torch\n",
    "import pandas as pd \n",
    "from torch.utils.data import Dataset\n",
    "from sklearn.model_selection import train_test_split\n",
    "import ast \n",
    "\n",
    "class SentimentDataset(Dataset):\n",
    "    def __init__(self, dataframe, max_length=105, vocab_size=10000):\n",
    "        self.reviews = dataframe['padded_review']\n",
    "        self.labels = dataframe['label']\n",
    "        self.max_length = max_length\n",
    "        self.vocab_size = vocab_size\n",
    "\n",
    "    def __len__(self):\n",
    "        return len(self.reviews)\n",
    "\n",
    "    def __getitem__(self, idx):\n",
    "        # Retrieve the token indices for the review\n",
    "        indices = self.reviews.iloc[idx]\n",
    "\n",
    "        # Initialize a multi-hot vector of length vocab_size\n",
    "        multi_hot_vector = torch.zeros(self.vocab_size)\n",
    "\n",
    "        # Set the corresponding indices to 1 in the multi-hot vector\n",
    "        for index in indices:\n",
    "            if index < self.vocab_size:\n",
    "                multi_hot_vector[index] = 1\n",
    "\n",
    "        # Retrieve the label and convert to tensor\n",
    "        label = torch.tensor(self.labels.iloc[idx], dtype=torch.long)\n",
    "\n",
    "        return multi_hot_vector, label\n",
    "\n",
    "from torch.utils.data import DataLoader\n",
    "\n",
    "# Parameters\n",
    "vocab_size = 10000  # Adjusted to match min(vocab_size, 10000) in your original code\n",
    "max_length = 105\n",
    "batch_size = 16\n",
    "\n",
    "train_df = pd.read_csv('train_data_final_2.csv')\n",
    "train_df = train_df.sample(n=400, random_state=42)  # Sampling 1000 examples due to dataset size\n",
    "\n",
    "test_df = pd.read_csv('test_data_final_2.csv')\n",
    "test_df = test_df.sample(n=200, random_state=42)  # Sampling 1000 examples due to dataset size\n",
    "\n",
    "\n",
    "# Splitting data into train, dev, and test sets\n",
    "# train_data, test_data = train_test_split(test_df, test_size=0.2, random_state=42)\n",
    "train_data, dev_data = train_test_split(train_df, test_size=0.2, random_state=42)\n",
    "\n",
    "test_data = test_df\n",
    "\n",
    "# Truncate the sequences to max_length within the DataFrame\n",
    "max_length = 105  \n",
    "\n",
    "# Apply truncation directly to the 'padded_review' column in each DataFrame\n",
    "train_df['padded_review'] = train_df['padded_review'].apply(lambda review: ast.literal_eval(review)[:max_length])\n",
    "dev_df = train_df.sample(frac=0.1, random_state=42)  # Extracting dev data from train_df\n",
    "train_df = train_df.drop(dev_df.index)  # Remaining for training\n",
    "test_df['padded_review'] = test_df['padded_review'].apply(lambda review: ast.literal_eval(review)[:max_length])\n",
    "\n",
    "# Ensure labels are numeric (convert if necessary)\n",
    "train_df['label'] = pd.to_numeric(train_df['label'])\n",
    "dev_df['label'] = pd.to_numeric(dev_df['label'])\n",
    "test_df['label'] = pd.to_numeric(test_df['label'])\n",
    "\n",
    "# Create datasets\n",
    "train_dataset = SentimentDataset(train_df)\n",
    "dev_dataset = SentimentDataset(dev_df)\n",
    "test_dataset = SentimentDataset(test_df)\n",
    "\n",
    "# Create DataLoaders\n",
    "batch_size = 16\n",
    "\n",
    "# Create datasets\n",
    "train_dataset = SentimentDataset(train_df, max_length=max_length, vocab_size=vocab_size)\n",
    "dev_dataset = SentimentDataset(dev_df, max_length=max_length, vocab_size=vocab_size)\n",
    "test_dataset = SentimentDataset(test_df, max_length=max_length, vocab_size=vocab_size)\n",
    "\n",
    "# Create DataLoaders\n",
    "train_loader = DataLoader(train_dataset, batch_size=batch_size, shuffle=True)\n",
    "dev_loader = DataLoader(dev_dataset, batch_size=batch_size, shuffle=False)\n",
    "test_loader = DataLoader(test_dataset, batch_size=batch_size, shuffle=False)\n",
    "\n",
    "# Print data loader counts\n",
    "print(f\"Number of batches in training loader: {len(train_loader)}\")\n",
    "print(f\"Number of batches in dev loader: {len(dev_loader)}\")\n",
    "print(f\"Number of batches in test loader: {len(test_loader)}\")\n"
   ]
  },
  {
   "cell_type": "code",
   "execution_count": 24,
   "metadata": {
    "execution": {
     "iopub.execute_input": "2024-09-26T17:31:19.746883Z",
     "iopub.status.busy": "2024-09-26T17:31:19.746488Z",
     "iopub.status.idle": "2024-09-26T17:31:19.907981Z",
     "shell.execute_reply": "2024-09-26T17:31:19.906716Z",
     "shell.execute_reply.started": "2024-09-26T17:31:19.746843Z"
    },
    "trusted": true
   },
   "outputs": [
    {
     "name": "stdout",
     "output_type": "stream",
     "text": [
      "SentimentGRU(\n",
      "  (gru): GRU(10000, 256, batch_first=True)\n",
      "  (fc): Linear(in_features=256, out_features=2, bias=True)\n",
      ")\n"
     ]
    }
   ],
   "source": [
    "import torch\n",
    "import torch.nn as nn\n",
    "import torch.optim as optim\n",
    "\n",
    "class SentimentGRU(nn.Module):\n",
    "    def __init__(self, vocab_size, hidden_size, output_size, num_layers=1, dropout=0.5):\n",
    "        super(SentimentGRU, self).__init__()\n",
    "        self.hidden_size = hidden_size\n",
    "        self.num_layers = num_layers\n",
    "\n",
    "        # GRU layer\n",
    "        self.gru = nn.GRU(\n",
    "            vocab_size,  # Input size is now vocab_size (multi-hot vector length)\n",
    "            hidden_size,\n",
    "            num_layers,\n",
    "            batch_first=True,\n",
    "            dropout=dropout if num_layers > 1 else 0\n",
    "        )\n",
    "\n",
    "        # Fully connected output layer\n",
    "        self.fc = nn.Linear(hidden_size, output_size)\n",
    "\n",
    "    def forward(self, x):\n",
    "        # x: [batch_size, seq_length]\n",
    "\n",
    "        # Initialize hidden state (h0) with zeros\n",
    "        h0 = torch.zeros(self.num_layers, x.size(0), self.hidden_size).to(x.device)\n",
    "\n",
    "        # Forward propagate GRU\n",
    "        out, hn = self.gru(x.unsqueeze(1), h0)  # out: tensor of shape (batch_size, seq_length, hidden_size)\n",
    "\n",
    "        # Take the output from the last time step\n",
    "        out = out[:, -1, :]  # (batch_size, hidden_size)\n",
    "\n",
    "        # Pass through the fully connected layer\n",
    "        out = self.fc(out)  # (batch_size, output_size)\n",
    "\n",
    "        return out\n",
    "\n",
    "# Parameters\n",
    "vocab_size = 10000      # Adjusted to match min(vocab_size, 10000)\n",
    "hidden_size = 256\n",
    "output_size = 2          # Binary classification (positive and negative)\n",
    "num_layers = 1           # Number of GRU layers\n",
    "dropout = 0.5            # Dropout probability\n",
    "learning_rate = 0.001\n",
    "num_epochs = 10          # Allowing early stopping\n",
    "weight_decay = 1e-5      # L2 regularization to avoid overfitting\n",
    "\n",
    "# Initialize the model\n",
    "model = SentimentGRU(vocab_size, hidden_size, output_size, num_layers, dropout)\n",
    "\n",
    "# Move model to GPU if available\n",
    "device = torch.device(\"cuda\" if torch.cuda.is_available() else \"cpu\")\n",
    "model.to(device)\n",
    "\n",
    "# Define loss and optimizer with weight decay (L2 regularization)\n",
    "criterion = nn.CrossEntropyLoss()\n",
    "optimizer = optim.Adam(model.parameters(), lr=learning_rate, weight_decay=weight_decay)\n",
    "\n",
    "print(model)\n"
   ]
  },
  {
   "cell_type": "code",
   "execution_count": 25,
   "metadata": {
    "execution": {
     "iopub.execute_input": "2024-09-26T17:31:24.028312Z",
     "iopub.status.busy": "2024-09-26T17:31:24.027365Z",
     "iopub.status.idle": "2024-09-26T17:33:42.622272Z",
     "shell.execute_reply": "2024-09-26T17:33:42.621258Z",
     "shell.execute_reply.started": "2024-09-26T17:31:24.028260Z"
    },
    "trusted": true
   },
   "outputs": [
    {
     "name": "stdout",
     "output_type": "stream",
     "text": [
      "Epoch [1/10], Train Loss: 0.6722, Train Acc: 0.5917, Dev Loss: 0.6541, Dev Acc: 0.6000\n",
      "Epoch [2/10], Train Loss: 0.3893, Train Acc: 0.9556, Dev Loss: 0.5895, Dev Acc: 0.6750\n",
      "Epoch [3/10], Train Loss: 0.1371, Train Acc: 1.0000, Dev Loss: 0.6097, Dev Acc: 0.6250\n",
      "Epoch [4/10], Train Loss: 0.0445, Train Acc: 1.0000, Dev Loss: 0.6447, Dev Acc: 0.6750\n",
      "Epoch [5/10], Train Loss: 0.0183, Train Acc: 1.0000, Dev Loss: 0.6847, Dev Acc: 0.6750\n",
      "Epoch [6/10], Train Loss: 0.0104, Train Acc: 1.0000, Dev Loss: 0.7219, Dev Acc: 0.6750\n",
      "Epoch [7/10], Train Loss: 0.0066, Train Acc: 1.0000, Dev Loss: 0.7420, Dev Acc: 0.6750\n",
      "Early stopping triggered.\n",
      "\n",
      "Best Dev Accuracy: 0.6750\n"
     ]
    }
   ],
   "source": [
    "import copy \n",
    "min_delta = 0.001  # Minimum change in the monitored quantity to qualify as an improvement\n",
    "patience = 5  # Number of epochs with no improvement after which training will be stopped\n",
    "\n",
    "# Lists to store loss and accuracy for plotting\n",
    "train_losses = []\n",
    "dev_losses = []\n",
    "train_accuracies = []\n",
    "dev_accuracies = []\n",
    "\n",
    "best_dev_accuracy = 0.0\n",
    "best_model_state = copy.deepcopy(model.state_dict())\n",
    "counter = 0  # Initialize patience counter\n",
    "\n",
    "for epoch in range(num_epochs):\n",
    "    # Training phase\n",
    "    model.train()\n",
    "    running_loss = 0.0\n",
    "    correct_train = 0\n",
    "    total_train = 0\n",
    "    for batch_X, batch_Y in train_loader:\n",
    "        batch_X = batch_X.to(device)  # [batch_size, seq_length]\n",
    "        batch_Y = batch_Y.to(device)  # [batch_size]\n",
    "\n",
    "        # Forward pass\n",
    "        outputs = model(batch_X)  # [batch_size, output_size]\n",
    "        loss = criterion(outputs, batch_Y)\n",
    "\n",
    "        # Backward and optimize\n",
    "        optimizer.zero_grad()\n",
    "        loss.backward()\n",
    "        optimizer.step()\n",
    "\n",
    "        running_loss += loss.item() * batch_X.size(0)\n",
    "\n",
    "        # Compute training accuracy\n",
    "        _, preds = torch.max(outputs, 1)\n",
    "        correct_train += (preds == batch_Y).sum().item()\n",
    "        total_train += batch_Y.size(0)\n",
    "\n",
    "    epoch_train_loss = running_loss / len(train_loader.dataset)\n",
    "    epoch_train_acc = correct_train / total_train\n",
    "    train_losses.append(epoch_train_loss)\n",
    "    train_accuracies.append(epoch_train_acc)\n",
    "\n",
    "    # Evaluation on development set\n",
    "    model.eval()\n",
    "    dev_running_loss = 0.0\n",
    "    correct_dev = 0\n",
    "    total_dev = 0\n",
    "    with torch.no_grad():\n",
    "        for batch_X, batch_Y in dev_loader:\n",
    "            batch_X = batch_X.to(device)\n",
    "            batch_Y = batch_Y.to(device)\n",
    "            outputs = model(batch_X)  # [batch_size, output_size]\n",
    "            loss = criterion(outputs, batch_Y)\n",
    "            dev_running_loss += loss.item() * batch_X.size(0)\n",
    "\n",
    "            _, preds = torch.max(outputs, 1)  # [batch_size]\n",
    "            correct_dev += (preds == batch_Y).sum().item()\n",
    "            total_dev += batch_Y.size(0)\n",
    "\n",
    "    epoch_dev_loss = dev_running_loss / len(dev_loader.dataset)\n",
    "    epoch_dev_acc = correct_dev / total_dev\n",
    "    dev_losses.append(epoch_dev_loss)\n",
    "    dev_accuracies.append(epoch_dev_acc)\n",
    "\n",
    "    print(f\"Epoch [{epoch+1}/{num_epochs}], \"\n",
    "          f\"Train Loss: {epoch_train_loss:.4f}, Train Acc: {epoch_train_acc:.4f}, \"\n",
    "          f\"Dev Loss: {epoch_dev_loss:.4f}, Dev Acc: {epoch_dev_acc:.4f}\")\n",
    "\n",
    "    # Check for improvement\n",
    "    if epoch_dev_acc > best_dev_accuracy + min_delta:\n",
    "        best_dev_accuracy = epoch_dev_acc\n",
    "        best_model_state = copy.deepcopy(model.state_dict())\n",
    "        counter = 0  # Reset counter if improvement occurs\n",
    "#         print(f\"--> Dev Accuracy improved to {best_dev_accuracy:.4f}.\")\n",
    "    else:\n",
    "        counter += 1\n",
    "#         print(f\"--> No improvement in Dev Accuracy for {counter} epoch(s).\")\n",
    "        if counter >= patience:\n",
    "            print(\"Early stopping triggered.\")\n",
    "            break  # Exit the training loop\n",
    "\n",
    "# Load the best model\n",
    "model.load_state_dict(best_model_state)\n",
    "print(f\"\\nBest Dev Accuracy: {best_dev_accuracy:.4f}\")"
   ]
  },
  {
   "cell_type": "code",
   "execution_count": null,
   "metadata": {
    "execution": {
     "iopub.execute_input": "2024-09-26T17:33:49.171382Z",
     "iopub.status.busy": "2024-09-26T17:33:49.170944Z",
     "iopub.status.idle": "2024-09-26T17:34:06.753507Z",
     "shell.execute_reply": "2024-09-26T17:34:06.752276Z",
     "shell.execute_reply.started": "2024-09-26T17:33:49.171339Z"
    },
    "trusted": true
   },
   "outputs": [
    {
     "name": "stdout",
     "output_type": "stream",
     "text": [
      "\n",
      "Test Loss: 0.5907\n",
      "Test Accuracy: 0.6700\n",
      "Test Precision: 0.6696\n",
      "Test Recall: 0.7333\n",
      "Test F1-Score: 0.7000\n",
      "\n",
      "Per Class Metrics:\n",
      "Class 0 - Precision: 0.6706, Recall: 0.6000, F1-Score: 0.6333\n",
      "Class 1 - Precision: 0.6696, Recall: 0.7333, F1-Score: 0.7000\n"
     ]
    }
   ],
   "source": [
    "# Evaluation on Test Set\n",
    "from sklearn.metrics import accuracy_score, precision_recall_fscore_support\n",
    "\n",
    "model.eval()\n",
    "test_preds = []\n",
    "test_labels = []\n",
    "test_running_loss = 0.0\n",
    "with torch.no_grad():\n",
    "    for batch_X, batch_Y in test_loader:\n",
    "        batch_X = batch_X.to(device)\n",
    "        batch_Y = batch_Y.to(device)\n",
    "        outputs = model(batch_X)  # [batch_size, output_size]\n",
    "        loss = criterion(outputs, batch_Y)\n",
    "        test_running_loss += loss.item() * batch_X.size(0)\n",
    "\n",
    "        _, preds = torch.max(outputs, 1)  # [batch_size]\n",
    "        test_preds.extend(preds.cpu().numpy())\n",
    "        test_labels.extend(batch_Y.cpu().numpy())\n",
    "\n",
    "test_loss = test_running_loss / len(test_loader.dataset)\n",
    "accuracy = accuracy_score(test_labels, test_preds)\n",
    "precision, recall, f1, _ = precision_recall_fscore_support(test_labels, test_preds, average='binary')\n",
    "\n",
    "print(f\"\\nTest Loss: {test_loss:.4f}\")\n",
    "print(f\"Test Accuracy: {accuracy:.4f}\")\n",
    "print(f\"Test Precision: {precision:.4f}\")\n",
    "print(f\"Test Recall: {recall:.4f}\")\n",
    "print(f\"Test F1-Score: {f1:.4f}\")\n",
    "\n",
    "# Detailed metrics for each class\n",
    "precision_per_class, recall_per_class, f1_per_class, _ = precision_recall_fscore_support(\n",
    "    test_labels, test_preds, labels=[0, 1]\n",
    ")\n",
    "\n",
    "print(\"\\nPer Class Metrics:\")\n",
    "print(f\"Class 0 - Precision: {precision_per_class[0]:.4f}, Recall: {recall_per_class[0]:.4f}, F1-Score: {f1_per_class[0]:.4f}\")\n",
    "print(f\"Class 1 - Precision: {precision_per_class[1]:.4f}, Recall: {recall_per_class[1]:.4f}, F1-Score: {f1_per_class[1]:.4f}\")\n",
    "\n"
   ]
  },
  {
   "cell_type": "code",
   "execution_count": 27,
   "metadata": {
    "execution": {
     "iopub.execute_input": "2024-09-26T17:34:56.695642Z",
     "iopub.status.busy": "2024-09-26T17:34:56.695219Z",
     "iopub.status.idle": "2024-09-26T17:34:57.454252Z",
     "shell.execute_reply": "2024-09-26T17:34:57.453276Z",
     "shell.execute_reply.started": "2024-09-26T17:34:56.695600Z"
    },
    "trusted": true
   },
   "outputs": [
    {
     "data": {
      "image/png": "[encoded data removed]",
      "text/plain": [
       "<Figure size 1400x600 with 2 Axes>"
      ]
     },
     "metadata": {},
     "output_type": "display_data"
    }
   ],
   "source": [
    "import matplotlib.pyplot as plt\n",
    "\n",
    "# Plot Training Loss, Dev Loss, Training Accuracy, and Dev Accuracy\n",
    "plt.figure(figsize=(14, 6))\n",
    "\n",
    "# Plot Training and Development Loss\n",
    "plt.subplot(1, 2, 1)\n",
    "plt.plot(range(1, len(train_losses) + 1), train_losses, marker='o', label='Train Loss')\n",
    "plt.plot(range(1, len(dev_losses) + 1), dev_losses, marker='s', label='Dev Loss')\n",
    "plt.title('Loss over Epochs')\n",
    "plt.xlabel('Epoch')\n",
    "plt.ylabel('Loss')\n",
    "plt.grid(True)\n",
    "plt.legend()\n",
    "\n",
    "# Plot Training and Development Accuracy\n",
    "plt.subplot(1, 2, 2)\n",
    "plt.plot(range(1, len(train_accuracies) + 1), train_accuracies, marker='o', label='Train Accuracy')\n",
    "plt.plot(range(1, len(dev_accuracies) + 1), dev_accuracies, marker='s', label='Dev Accuracy')\n",
    "plt.title('Accuracy over Epochs')\n",
    "plt.xlabel('Epoch')\n",
    "plt.ylabel('Accuracy')\n",
    "plt.grid(True)\n",
    "plt.legend()\n",
    "\n",
    "plt.tight_layout()\n",
    "plt.show()\n"
   ]
  },
  {
   "cell_type": "code",
   "execution_count": 31,
   "metadata": {
    "execution": {
     "iopub.execute_input": "2024-09-26T17:35:20.521874Z",
     "iopub.status.busy": "2024-09-26T17:35:20.520928Z",
     "iopub.status.idle": "2024-09-26T17:35:20.533275Z",
     "shell.execute_reply": "2024-09-26T17:35:20.532192Z",
     "shell.execute_reply.started": "2024-09-26T17:35:20.521827Z"
    },
    "trusted": true
   },
   "outputs": [
    {
     "name": "stdout",
     "output_type": "stream",
     "text": [
      "Statement :  this was a good movie after all\n",
      "Predicted label for the input sentence: Positive\n"
     ]
    }
   ],
   "source": [
    "vocab = {\n",
    "    \"this\": 1,\n",
    "    \"was\": 2,\n",
    "    \"a\": 3,\n",
    "    \"good\": 4,\n",
    "    \"movie\": 5,\n",
    "    \"after\": 6,\n",
    "    \"all\": 7\n",
    "}\n",
    "\n",
    "\n",
    "def predict_sentiment(sentence, model, vocab, max_length=105, vocab_size=17502):\n",
    "    tokens = [vocab.get(word, 0) for word in sentence.split()]\n",
    "    tokens = tokens[:max_length] + [0] * (max_length - len(tokens))\n",
    "    multi_hot_vector = torch.zeros(vocab_size)\n",
    "    for index in tokens:\n",
    "        if index < vocab_size:\n",
    "            multi_hot_vector[index] = 1\n",
    "    multi_hot_vector = multi_hot_vector.unsqueeze(0).to(device)\n",
    "    model.eval()\n",
    "    with torch.no_grad():\n",
    "        output = model(multi_hot_vector)\n",
    "    _, predicted = torch.max(output, 1)\n",
    "    sentiment = \"Positive\" if predicted.item() == 1 else \"Negative\"\n",
    "    print(f\"Predicted label for the input sentence: {sentiment}\")\n",
    "\n",
    "# Example usage:\n",
    "sentence = \"this was a good movie after all\"\n",
    "print(\"Statement : \",sentence)\n",
    "predict_sentiment(sentence, model, vocab, max_length=max_length, vocab_size=vocab_size)\n"
   ]
  },
  {
   "cell_type": "markdown",
   "metadata": {},
   "source": [
    "#### Ends. "
   ]
  }
 ],
 "metadata": {
  "kaggle": {
   "accelerator": "gpu",
   "dataSources": [
    {
     "datasetId": 5770669,
     "sourceId": 9485881,
     "sourceType": "datasetVersion"
    }
   ],
   "dockerImageVersionId": 30776,
   "isGpuEnabled": true,
   "isInternetEnabled": true,
   "language": "python",
   "sourceType": "notebook"
  },
  "kernelspec": {
   "display_name": "base",
   "language": "python",
   "name": "python3"
  },
  "language_info": {
   "codemirror_mode": {
    "name": "ipython",
    "version": 3
   },
   "file_extension": ".py",
   "mimetype": "text/x-python",
   "name": "python",
   "nbconvert_exporter": "python",
   "pygments_lexer": "ipython3",
   "version": "3.9.13"
  }
 },
 "nbformat": 4,
 "nbformat_minor": 4
}
